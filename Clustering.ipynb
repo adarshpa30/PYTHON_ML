{
 "cells": [
  {
   "cell_type": "code",
   "execution_count": null,
   "metadata": {},
   "outputs": [],
   "source": [
    "#1,Using the dataset faithful.csv create a model which shows the relationship between\n",
    "#eruptions and waiting. Using cluster analysis find a cluster with highest value for\n",
    "#waiting and eruption:"
   ]
  },
  {
   "cell_type": "code",
   "execution_count": 11,
   "metadata": {},
   "outputs": [],
   "source": [
    "#importing libraies:\n",
    "import pandas as pd\n",
    "import numpy as np\n",
    "import matplotlib.pyplot as plt\n",
    "from sklearn.cluster import KMeans"
   ]
  },
  {
   "cell_type": "code",
   "execution_count": 12,
   "metadata": {},
   "outputs": [],
   "source": [
    "data=pd.read_csv(\"D:/SEM 4/faithful.csv\")"
   ]
  },
  {
   "cell_type": "code",
   "execution_count": 13,
   "metadata": {},
   "outputs": [
    {
     "data": {
      "text/html": [
       "<div>\n",
       "<style scoped>\n",
       "    .dataframe tbody tr th:only-of-type {\n",
       "        vertical-align: middle;\n",
       "    }\n",
       "\n",
       "    .dataframe tbody tr th {\n",
       "        vertical-align: top;\n",
       "    }\n",
       "\n",
       "    .dataframe thead th {\n",
       "        text-align: right;\n",
       "    }\n",
       "</style>\n",
       "<table border=\"1\" class=\"dataframe\">\n",
       "  <thead>\n",
       "    <tr style=\"text-align: right;\">\n",
       "      <th></th>\n",
       "      <th>Unnamed: 0</th>\n",
       "      <th>eruptions</th>\n",
       "      <th>waiting</th>\n",
       "    </tr>\n",
       "  </thead>\n",
       "  <tbody>\n",
       "    <tr>\n",
       "      <th>0</th>\n",
       "      <td>1</td>\n",
       "      <td>3.600</td>\n",
       "      <td>79.0</td>\n",
       "    </tr>\n",
       "    <tr>\n",
       "      <th>1</th>\n",
       "      <td>2</td>\n",
       "      <td>1.800</td>\n",
       "      <td>54.0</td>\n",
       "    </tr>\n",
       "    <tr>\n",
       "      <th>2</th>\n",
       "      <td>3</td>\n",
       "      <td>3.333</td>\n",
       "      <td>74.0</td>\n",
       "    </tr>\n",
       "    <tr>\n",
       "      <th>3</th>\n",
       "      <td>4</td>\n",
       "      <td>2.283</td>\n",
       "      <td>62.0</td>\n",
       "    </tr>\n",
       "    <tr>\n",
       "      <th>4</th>\n",
       "      <td>5</td>\n",
       "      <td>4.533</td>\n",
       "      <td>85.0</td>\n",
       "    </tr>\n",
       "  </tbody>\n",
       "</table>\n",
       "</div>"
      ],
      "text/plain": [
       "   Unnamed: 0  eruptions  waiting\n",
       "0           1      3.600     79.0\n",
       "1           2      1.800     54.0\n",
       "2           3      3.333     74.0\n",
       "3           4      2.283     62.0\n",
       "4           5      4.533     85.0"
      ]
     },
     "execution_count": 13,
     "metadata": {},
     "output_type": "execute_result"
    }
   ],
   "source": [
    "data.head()"
   ]
  },
  {
   "cell_type": "code",
   "execution_count": 14,
   "metadata": {},
   "outputs": [
    {
     "name": "stdout",
     "output_type": "stream",
     "text": [
      "<class 'pandas.core.frame.DataFrame'>\n",
      "RangeIndex: 272 entries, 0 to 271\n",
      "Data columns (total 3 columns):\n",
      " #   Column      Non-Null Count  Dtype  \n",
      "---  ------      --------------  -----  \n",
      " 0   Unnamed: 0  272 non-null    int64  \n",
      " 1   eruptions   268 non-null    float64\n",
      " 2   waiting     269 non-null    float64\n",
      "dtypes: float64(2), int64(1)\n",
      "memory usage: 6.5 KB\n"
     ]
    }
   ],
   "source": [
    "data.info()"
   ]
  },
  {
   "cell_type": "code",
   "execution_count": 15,
   "metadata": {},
   "outputs": [
    {
     "data": {
      "text/plain": [
       "Unnamed: 0    0\n",
       "eruptions     4\n",
       "waiting       3\n",
       "dtype: int64"
      ]
     },
     "execution_count": 15,
     "metadata": {},
     "output_type": "execute_result"
    }
   ],
   "source": [
    "data.isnull().sum()"
   ]
  },
  {
   "cell_type": "code",
   "execution_count": 16,
   "metadata": {},
   "outputs": [],
   "source": [
    "#replaceing null values:\n",
    "data['eruptions'].fillna(data['eruptions'].mean(),inplace=True)\n",
    "data['waiting'].fillna(data['waiting'].mean(),inplace=True)"
   ]
  },
  {
   "cell_type": "code",
   "execution_count": 17,
   "metadata": {},
   "outputs": [],
   "source": [
    "#taking feature values:\n",
    "x=data.iloc[:,[1,2]].values"
   ]
  },
  {
   "cell_type": "code",
   "execution_count": 18,
   "metadata": {},
   "outputs": [
    {
     "data": {
      "text/plain": [
       "array([[ 3.6       , 79.        ],\n",
       "       [ 1.8       , 54.        ],\n",
       "       [ 3.333     , 74.        ],\n",
       "       [ 2.283     , 62.        ],\n",
       "       [ 4.533     , 85.        ],\n",
       "       [ 2.883     , 55.        ],\n",
       "       [ 4.7       , 88.        ],\n",
       "       [ 3.6       , 85.        ],\n",
       "       [ 1.95      , 51.        ],\n",
       "       [ 4.35      , 85.        ],\n",
       "       [ 1.833     , 54.        ],\n",
       "       [ 3.917     , 84.        ],\n",
       "       [ 4.2       , 78.        ],\n",
       "       [ 1.75      , 47.        ],\n",
       "       [ 4.7       , 83.        ],\n",
       "       [ 2.167     , 52.        ],\n",
       "       [ 1.75      , 62.        ],\n",
       "       [ 4.8       , 84.        ],\n",
       "       [ 1.6       , 52.        ],\n",
       "       [ 3.48268657, 79.        ],\n",
       "       [ 1.8       , 51.        ],\n",
       "       [ 1.75      , 47.        ],\n",
       "       [ 3.45      , 78.        ],\n",
       "       [ 3.067     , 69.        ],\n",
       "       [ 4.533     , 74.        ],\n",
       "       [ 3.6       , 83.        ],\n",
       "       [ 1.967     , 55.        ],\n",
       "       [ 4.083     , 76.        ],\n",
       "       [ 3.85      , 78.        ],\n",
       "       [ 4.433     , 79.        ],\n",
       "       [ 4.3       , 73.        ],\n",
       "       [ 4.467     , 77.        ],\n",
       "       [ 3.367     , 66.        ],\n",
       "       [ 4.033     , 80.        ],\n",
       "       [ 3.833     , 74.        ],\n",
       "       [ 2.017     , 52.        ],\n",
       "       [ 1.867     , 48.        ],\n",
       "       [ 4.833     , 80.        ],\n",
       "       [ 1.833     , 59.        ],\n",
       "       [ 4.783     , 90.        ],\n",
       "       [ 4.35      , 80.        ],\n",
       "       [ 1.883     , 58.        ],\n",
       "       [ 4.567     , 84.        ],\n",
       "       [ 1.75      , 58.        ],\n",
       "       [ 4.533     , 71.07434944],\n",
       "       [ 3.317     , 83.        ],\n",
       "       [ 3.833     , 64.        ],\n",
       "       [ 2.1       , 53.        ],\n",
       "       [ 4.633     , 82.        ],\n",
       "       [ 2.        , 59.        ],\n",
       "       [ 4.8       , 75.        ],\n",
       "       [ 4.716     , 90.        ],\n",
       "       [ 1.833     , 54.        ],\n",
       "       [ 4.833     , 80.        ],\n",
       "       [ 1.733     , 54.        ],\n",
       "       [ 4.883     , 83.        ],\n",
       "       [ 3.717     , 71.        ],\n",
       "       [ 1.667     , 64.        ],\n",
       "       [ 4.567     , 77.        ],\n",
       "       [ 4.317     , 81.        ],\n",
       "       [ 2.233     , 59.        ],\n",
       "       [ 4.5       , 84.        ],\n",
       "       [ 1.75      , 48.        ],\n",
       "       [ 4.8       , 82.        ],\n",
       "       [ 1.817     , 60.        ],\n",
       "       [ 4.4       , 92.        ],\n",
       "       [ 4.167     , 78.        ],\n",
       "       [ 4.7       , 78.        ],\n",
       "       [ 2.067     , 65.        ],\n",
       "       [ 4.7       , 73.        ],\n",
       "       [ 4.033     , 82.        ],\n",
       "       [ 1.967     , 56.        ],\n",
       "       [ 4.5       , 79.        ],\n",
       "       [ 4.        , 71.        ],\n",
       "       [ 1.983     , 62.        ],\n",
       "       [ 5.067     , 76.        ],\n",
       "       [ 2.017     , 60.        ],\n",
       "       [ 4.567     , 78.        ],\n",
       "       [ 3.883     , 76.        ],\n",
       "       [ 3.6       , 83.        ],\n",
       "       [ 4.133     , 75.        ],\n",
       "       [ 4.333     , 82.        ],\n",
       "       [ 4.1       , 70.        ],\n",
       "       [ 2.633     , 65.        ],\n",
       "       [ 4.067     , 73.        ],\n",
       "       [ 4.933     , 88.        ],\n",
       "       [ 3.95      , 76.        ],\n",
       "       [ 4.517     , 80.        ],\n",
       "       [ 2.167     , 48.        ],\n",
       "       [ 4.        , 86.        ],\n",
       "       [ 2.2       , 60.        ],\n",
       "       [ 4.333     , 90.        ],\n",
       "       [ 1.867     , 50.        ],\n",
       "       [ 3.48268657, 78.        ],\n",
       "       [ 1.833     , 63.        ],\n",
       "       [ 4.3       , 72.        ],\n",
       "       [ 4.667     , 84.        ],\n",
       "       [ 3.75      , 75.        ],\n",
       "       [ 1.867     , 51.        ],\n",
       "       [ 4.9       , 82.        ],\n",
       "       [ 2.483     , 62.        ],\n",
       "       [ 4.367     , 88.        ],\n",
       "       [ 2.1       , 49.        ],\n",
       "       [ 4.5       , 83.        ],\n",
       "       [ 4.05      , 81.        ],\n",
       "       [ 1.867     , 47.        ],\n",
       "       [ 4.7       , 84.        ],\n",
       "       [ 1.783     , 52.        ],\n",
       "       [ 4.85      , 86.        ],\n",
       "       [ 3.683     , 81.        ],\n",
       "       [ 4.733     , 75.        ],\n",
       "       [ 2.3       , 59.        ],\n",
       "       [ 4.9       , 89.        ],\n",
       "       [ 4.417     , 79.        ],\n",
       "       [ 1.7       , 59.        ],\n",
       "       [ 4.633     , 81.        ],\n",
       "       [ 2.317     , 50.        ],\n",
       "       [ 4.6       , 85.        ],\n",
       "       [ 1.817     , 59.        ],\n",
       "       [ 4.417     , 87.        ],\n",
       "       [ 2.617     , 53.        ],\n",
       "       [ 4.067     , 69.        ],\n",
       "       [ 4.25      , 77.        ],\n",
       "       [ 1.967     , 56.        ],\n",
       "       [ 4.6       , 88.        ],\n",
       "       [ 3.767     , 81.        ],\n",
       "       [ 1.917     , 45.        ],\n",
       "       [ 4.5       , 82.        ],\n",
       "       [ 2.267     , 55.        ],\n",
       "       [ 4.65      , 90.        ],\n",
       "       [ 1.867     , 45.        ],\n",
       "       [ 4.167     , 83.        ],\n",
       "       [ 2.8       , 56.        ],\n",
       "       [ 4.333     , 89.        ],\n",
       "       [ 1.833     , 71.07434944],\n",
       "       [ 4.383     , 82.        ],\n",
       "       [ 1.883     , 51.        ],\n",
       "       [ 4.933     , 86.        ],\n",
       "       [ 2.033     , 53.        ],\n",
       "       [ 3.733     , 79.        ],\n",
       "       [ 4.233     , 81.        ],\n",
       "       [ 2.233     , 60.        ],\n",
       "       [ 4.533     , 82.        ],\n",
       "       [ 4.817     , 77.        ],\n",
       "       [ 4.333     , 76.        ],\n",
       "       [ 1.983     , 59.        ],\n",
       "       [ 4.633     , 80.        ],\n",
       "       [ 2.017     , 49.        ],\n",
       "       [ 5.1       , 96.        ],\n",
       "       [ 1.8       , 53.        ],\n",
       "       [ 5.033     , 77.        ],\n",
       "       [ 4.        , 77.        ],\n",
       "       [ 2.4       , 65.        ],\n",
       "       [ 4.6       , 81.        ],\n",
       "       [ 3.567     , 71.        ],\n",
       "       [ 4.        , 70.        ],\n",
       "       [ 4.5       , 81.        ],\n",
       "       [ 4.083     , 93.        ],\n",
       "       [ 1.8       , 53.        ],\n",
       "       [ 3.967     , 89.        ],\n",
       "       [ 2.2       , 45.        ],\n",
       "       [ 4.15      , 86.        ],\n",
       "       [ 2.        , 58.        ],\n",
       "       [ 3.833     , 78.        ],\n",
       "       [ 3.5       , 66.        ],\n",
       "       [ 4.583     , 76.        ],\n",
       "       [ 2.367     , 63.        ],\n",
       "       [ 5.        , 88.        ],\n",
       "       [ 1.933     , 52.        ],\n",
       "       [ 4.617     , 93.        ],\n",
       "       [ 1.917     , 49.        ],\n",
       "       [ 2.083     , 57.        ],\n",
       "       [ 4.583     , 77.        ],\n",
       "       [ 3.333     , 68.        ],\n",
       "       [ 4.167     , 81.        ],\n",
       "       [ 4.333     , 81.        ],\n",
       "       [ 4.5       , 73.        ],\n",
       "       [ 2.417     , 50.        ],\n",
       "       [ 4.        , 85.        ],\n",
       "       [ 4.167     , 74.        ],\n",
       "       [ 1.883     , 55.        ],\n",
       "       [ 4.583     , 77.        ],\n",
       "       [ 4.25      , 83.        ],\n",
       "       [ 3.767     , 83.        ],\n",
       "       [ 2.033     , 51.        ],\n",
       "       [ 4.433     , 78.        ],\n",
       "       [ 4.083     , 84.        ],\n",
       "       [ 1.833     , 46.        ],\n",
       "       [ 4.417     , 83.        ],\n",
       "       [ 2.183     , 55.        ],\n",
       "       [ 4.8       , 81.        ],\n",
       "       [ 1.833     , 57.        ],\n",
       "       [ 4.8       , 76.        ],\n",
       "       [ 4.1       , 84.        ],\n",
       "       [ 3.966     , 77.        ],\n",
       "       [ 4.233     , 81.        ],\n",
       "       [ 3.5       , 87.        ],\n",
       "       [ 4.366     , 77.        ],\n",
       "       [ 2.25      , 51.        ],\n",
       "       [ 4.667     , 78.        ],\n",
       "       [ 2.1       , 60.        ],\n",
       "       [ 4.35      , 82.        ],\n",
       "       [ 4.133     , 91.        ],\n",
       "       [ 1.867     , 53.        ],\n",
       "       [ 4.6       , 78.        ],\n",
       "       [ 1.783     , 46.        ],\n",
       "       [ 4.367     , 77.        ],\n",
       "       [ 3.85      , 84.        ],\n",
       "       [ 1.933     , 49.        ],\n",
       "       [ 4.5       , 83.        ],\n",
       "       [ 2.383     , 71.        ],\n",
       "       [ 4.7       , 80.        ],\n",
       "       [ 1.867     , 49.        ],\n",
       "       [ 3.833     , 75.        ],\n",
       "       [ 3.417     , 64.        ],\n",
       "       [ 4.233     , 76.        ],\n",
       "       [ 2.4       , 53.        ],\n",
       "       [ 4.8       , 94.        ],\n",
       "       [ 2.        , 55.        ],\n",
       "       [ 4.15      , 76.        ],\n",
       "       [ 1.867     , 50.        ],\n",
       "       [ 4.267     , 82.        ],\n",
       "       [ 1.75      , 54.        ],\n",
       "       [ 4.483     , 75.        ],\n",
       "       [ 4.        , 78.        ],\n",
       "       [ 4.117     , 79.        ],\n",
       "       [ 4.083     , 78.        ],\n",
       "       [ 3.48268657, 78.        ],\n",
       "       [ 3.917     , 70.        ],\n",
       "       [ 4.55      , 79.        ],\n",
       "       [ 4.083     , 70.        ],\n",
       "       [ 2.417     , 54.        ],\n",
       "       [ 4.183     , 86.        ],\n",
       "       [ 2.217     , 50.        ],\n",
       "       [ 4.45      , 90.        ],\n",
       "       [ 1.883     , 54.        ],\n",
       "       [ 1.85      , 54.        ],\n",
       "       [ 4.283     , 77.        ],\n",
       "       [ 3.95      , 79.        ],\n",
       "       [ 2.333     , 64.        ],\n",
       "       [ 4.15      , 75.        ],\n",
       "       [ 2.35      , 47.        ],\n",
       "       [ 4.933     , 86.        ],\n",
       "       [ 2.9       , 63.        ],\n",
       "       [ 4.583     , 85.        ],\n",
       "       [ 3.833     , 82.        ],\n",
       "       [ 2.083     , 57.        ],\n",
       "       [ 4.367     , 82.        ],\n",
       "       [ 2.133     , 67.        ],\n",
       "       [ 4.35      , 74.        ],\n",
       "       [ 2.2       , 54.        ],\n",
       "       [ 4.45      , 83.        ],\n",
       "       [ 3.567     , 73.        ],\n",
       "       [ 4.5       , 73.        ],\n",
       "       [ 4.15      , 88.        ],\n",
       "       [ 3.817     , 80.        ],\n",
       "       [ 3.917     , 71.        ],\n",
       "       [ 4.45      , 83.        ],\n",
       "       [ 2.        , 56.        ],\n",
       "       [ 4.283     , 79.        ],\n",
       "       [ 4.767     , 78.        ],\n",
       "       [ 4.533     , 84.        ],\n",
       "       [ 1.85      , 58.        ],\n",
       "       [ 4.25      , 83.        ],\n",
       "       [ 3.48268657, 43.        ],\n",
       "       [ 2.25      , 60.        ],\n",
       "       [ 4.75      , 75.        ],\n",
       "       [ 4.117     , 81.        ],\n",
       "       [ 2.15      , 71.07434944],\n",
       "       [ 4.417     , 90.        ],\n",
       "       [ 1.817     , 46.        ],\n",
       "       [ 4.467     , 74.        ]])"
      ]
     },
     "execution_count": 18,
     "metadata": {},
     "output_type": "execute_result"
    }
   ],
   "source": [
    "x"
   ]
  },
  {
   "cell_type": "code",
   "execution_count": 19,
   "metadata": {},
   "outputs": [
    {
     "name": "stdout",
     "output_type": "stream",
     "text": [
      "49182.32608482408\n",
      "8958.473331834117\n",
      "5103.713038802657\n",
      "2968.8902610901905\n",
      "2040.1218074944338\n",
      "1506.4622960663676\n",
      "1028.2332598286482\n",
      "797.7307414816014\n",
      "647.7266022851633\n"
     ]
    }
   ],
   "source": [
    "#creating a list:\n",
    "list_k=[]\n",
    "for i in range(1,10):\n",
    "    kmeans=KMeans(n_clusters=i,init='k-means++',random_state=42)\n",
    "    kmeans.fit(x)\n",
    "    print(kmeans.inertia_)\n",
    "    list_k.append(kmeans.inertia_)"
   ]
  },
  {
   "cell_type": "code",
   "execution_count": 20,
   "metadata": {},
   "outputs": [
    {
     "data": {
      "image/png": "[encoded data removed]",
      "text/plain": [
       "<Figure size 432x288 with 1 Axes>"
      ]
     },
     "metadata": {
      "needs_background": "light"
     },
     "output_type": "display_data"
    }
   ],
   "source": [
    "#ploting the k values:\n",
    "plt.plot(range(1,10),list_k)\n",
    "plt.title('Elbow Method')\n",
    "plt.xlabel('no of clusters')\n",
    "plt.ylabel('wss')\n",
    "plt.show()"
   ]
  },
  {
   "cell_type": "code",
   "execution_count": 21,
   "metadata": {},
   "outputs": [],
   "source": [
    "#traning the model with clusters on dataset:\n",
    "kmeans=KMeans(n_clusters=5,init='k-means++',random_state=32)"
   ]
  },
  {
   "cell_type": "code",
   "execution_count": 22,
   "metadata": {},
   "outputs": [],
   "source": [
    "#predicting the clusters:\n",
    "predict=kmeans.fit_predict(x)"
   ]
  },
  {
   "cell_type": "code",
   "execution_count": 23,
   "metadata": {},
   "outputs": [
    {
     "data": {
      "text/plain": [
       "array([1, 0, 4, 2, 3, 0, 3, 3, 0, 3, 0, 1, 1, 0, 1, 0, 2, 1, 0, 1, 0, 0,\n",
       "       1, 4, 4, 1, 0, 4, 1, 1, 4, 4, 2, 1, 4, 0, 0, 1, 2, 3, 1, 2, 1, 2,\n",
       "       4, 1, 2, 0, 1, 2, 4, 3, 0, 1, 0, 1, 4, 2, 4, 1, 2, 1, 0, 1, 2, 3,\n",
       "       1, 1, 2, 4, 1, 0, 1, 4, 2, 4, 2, 1, 4, 1, 4, 1, 4, 2, 4, 3, 4, 1,\n",
       "       0, 3, 2, 3, 0, 1, 2, 4, 1, 4, 0, 1, 2, 3, 0, 1, 1, 0, 1, 0, 3, 1,\n",
       "       4, 2, 3, 1, 2, 1, 0, 3, 2, 3, 0, 4, 4, 0, 3, 1, 0, 1, 0, 3, 0, 1,\n",
       "       0, 3, 4, 1, 0, 3, 0, 1, 1, 2, 1, 4, 4, 2, 1, 0, 3, 0, 4, 4, 2, 1,\n",
       "       4, 4, 1, 3, 0, 3, 0, 3, 2, 1, 2, 4, 2, 3, 0, 3, 0, 2, 4, 4, 1, 1,\n",
       "       4, 0, 3, 4, 0, 4, 1, 1, 0, 1, 1, 0, 1, 0, 1, 2, 4, 1, 4, 1, 3, 4,\n",
       "       0, 1, 2, 1, 3, 0, 1, 0, 4, 1, 0, 1, 4, 1, 0, 4, 2, 4, 0, 3, 0, 4,\n",
       "       0, 1, 0, 4, 1, 1, 1, 1, 4, 1, 4, 0, 3, 0, 3, 0, 0, 4, 1, 2, 4, 0,\n",
       "       3, 2, 3, 1, 2, 1, 2, 4, 0, 1, 4, 4, 3, 1, 4, 1, 0, 1, 1, 1, 2, 1,\n",
       "       0, 2, 4, 1, 4, 3, 0, 4])"
      ]
     },
     "execution_count": 23,
     "metadata": {},
     "output_type": "execute_result"
    }
   ],
   "source": [
    "predict"
   ]
  },
  {
   "cell_type": "code",
   "execution_count": 25,
   "metadata": {},
   "outputs": [
    {
     "data": {
      "image/png": "[encoded data removed]",
      "text/plain": [
       "<Figure size 432x288 with 1 Axes>"
      ]
     },
     "metadata": {
      "needs_background": "light"
     },
     "output_type": "display_data"
    }
   ],
   "source": [
    "#visulazing the cluster:\n",
    "plt.scatter(x[predict==0,0],x[predict==0,1],s=120,c='yellow',label='cluster 1')\n",
    "plt.scatter(x[predict==1,0],x[predict==1,1],s=120,c='blue',label='cluster 2')\n",
    "plt.scatter(x[predict==2,0],x[predict==2,1],s=120,c='grey',label='cluster 3')\n",
    "plt.scatter(x[predict==3,0],x[predict==3,1],s=120,c='red',label='cluster 4')\n",
    "plt.scatter(x[predict==4,0],x[predict==4,1],s=120,c='orange',label='cluster 5')\n",
    "plt.scatter(kmeans.cluster_centers_[:,0],kmeans.cluster_centers_[:,1],s=300,c='black')\n",
    "plt.title('Clusters')\n",
    "plt.xlabel('eruptions')\n",
    "plt.ylabel('waiting')\n",
    "plt.show()"
   ]
  },
  {
   "cell_type": "code",
   "execution_count": null,
   "metadata": {},
   "outputs": [],
   "source": [
    "#find a cluster with highest value for waiting and eruption:\n",
    "#Ans:Cluster 4 has highest value for waiting and eruption"
   ]
  }
 ],
 "metadata": {
  "kernelspec": {
   "display_name": "Python 3",
   "language": "python",
   "name": "python3"
  },
  "language_info": {
   "codemirror_mode": {
    "name": "ipython",
    "version": 3
   },
   "file_extension": ".py",
   "mimetype": "text/x-python",
   "name": "python",
   "nbconvert_exporter": "python",
   "pygments_lexer": "ipython3",
   "version": "3.8.5"
  }
 },
 "nbformat": 4,
 "nbformat_minor": 4
}
