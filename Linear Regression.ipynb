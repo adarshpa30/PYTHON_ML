{
 "cells": [
  {
   "cell_type": "code",
   "execution_count": 2,
   "metadata": {},
   "outputs": [],
   "source": [
    "#Create\n",
    "#a linear model that quantitatively relates house prices with area.\n",
    "#b.Show the relationship between the sale prices and area using a graph.\n",
    "#c.If the area values are 7300,6800,5300,8400 find sale prices.\n",
    "#d.Print the mean squared error value\n",
    "import pandas as pd\n",
    "import numpy as np"
   ]
  },
  {
   "cell_type": "code",
   "execution_count": 3,
   "metadata": {},
   "outputs": [],
   "source": [
    "house=pd.read_csv(\"D:\\SEM 4\\Housing.csv\")"
   ]
  },
  {
   "cell_type": "code",
   "execution_count": 4,
   "metadata": {},
   "outputs": [
    {
     "data": {
      "text/html": [
       "<div>\n",
       "<style scoped>\n",
       "    .dataframe tbody tr th:only-of-type {\n",
       "        vertical-align: middle;\n",
       "    }\n",
       "\n",
       "    .dataframe tbody tr th {\n",
       "        vertical-align: top;\n",
       "    }\n",
       "\n",
       "    .dataframe thead th {\n",
       "        text-align: right;\n",
       "    }\n",
       "</style>\n",
       "<table border=\"1\" class=\"dataframe\">\n",
       "  <thead>\n",
       "    <tr style=\"text-align: right;\">\n",
       "      <th></th>\n",
       "      <th>price</th>\n",
       "      <th>area</th>\n",
       "      <th>bedrooms</th>\n",
       "      <th>bathrooms</th>\n",
       "      <th>stories</th>\n",
       "      <th>mainroad</th>\n",
       "      <th>guestroom</th>\n",
       "      <th>basement</th>\n",
       "      <th>hotwaterheating</th>\n",
       "      <th>airconditioning</th>\n",
       "      <th>parking</th>\n",
       "      <th>prefarea</th>\n",
       "      <th>furnishingstatus</th>\n",
       "    </tr>\n",
       "  </thead>\n",
       "  <tbody>\n",
       "    <tr>\n",
       "      <th>0</th>\n",
       "      <td>13300000.0</td>\n",
       "      <td>7420.0</td>\n",
       "      <td>4</td>\n",
       "      <td>2.0</td>\n",
       "      <td>3.0</td>\n",
       "      <td>yes</td>\n",
       "      <td>no</td>\n",
       "      <td>no</td>\n",
       "      <td>no</td>\n",
       "      <td>yes</td>\n",
       "      <td>2.0</td>\n",
       "      <td>yes</td>\n",
       "      <td>furnished</td>\n",
       "    </tr>\n",
       "    <tr>\n",
       "      <th>1</th>\n",
       "      <td>12250000.0</td>\n",
       "      <td>8960.0</td>\n",
       "      <td>4</td>\n",
       "      <td>4.0</td>\n",
       "      <td>4.0</td>\n",
       "      <td>yes</td>\n",
       "      <td>no</td>\n",
       "      <td>no</td>\n",
       "      <td>no</td>\n",
       "      <td>yes</td>\n",
       "      <td>3.0</td>\n",
       "      <td>no</td>\n",
       "      <td>furnished</td>\n",
       "    </tr>\n",
       "    <tr>\n",
       "      <th>2</th>\n",
       "      <td>12250000.0</td>\n",
       "      <td>9960.0</td>\n",
       "      <td>3</td>\n",
       "      <td>2.0</td>\n",
       "      <td>2.0</td>\n",
       "      <td>yes</td>\n",
       "      <td>no</td>\n",
       "      <td>yes</td>\n",
       "      <td>no</td>\n",
       "      <td>no</td>\n",
       "      <td>2.0</td>\n",
       "      <td>yes</td>\n",
       "      <td>semi-furnished</td>\n",
       "    </tr>\n",
       "    <tr>\n",
       "      <th>3</th>\n",
       "      <td>12215000.0</td>\n",
       "      <td>7500.0</td>\n",
       "      <td>4</td>\n",
       "      <td>2.0</td>\n",
       "      <td>2.0</td>\n",
       "      <td>yes</td>\n",
       "      <td>no</td>\n",
       "      <td>yes</td>\n",
       "      <td>no</td>\n",
       "      <td>yes</td>\n",
       "      <td>3.0</td>\n",
       "      <td>yes</td>\n",
       "      <td>furnished</td>\n",
       "    </tr>\n",
       "    <tr>\n",
       "      <th>4</th>\n",
       "      <td>11410000.0</td>\n",
       "      <td>7420.0</td>\n",
       "      <td>4</td>\n",
       "      <td>1.0</td>\n",
       "      <td>2.0</td>\n",
       "      <td>yes</td>\n",
       "      <td>yes</td>\n",
       "      <td>yes</td>\n",
       "      <td>no</td>\n",
       "      <td>yes</td>\n",
       "      <td>2.0</td>\n",
       "      <td>no</td>\n",
       "      <td>furnished</td>\n",
       "    </tr>\n",
       "  </tbody>\n",
       "</table>\n",
       "</div>"
      ],
      "text/plain": [
       "        price    area  bedrooms  bathrooms  stories mainroad guestroom  \\\n",
       "0  13300000.0  7420.0         4        2.0      3.0      yes        no   \n",
       "1  12250000.0  8960.0         4        4.0      4.0      yes        no   \n",
       "2  12250000.0  9960.0         3        2.0      2.0      yes        no   \n",
       "3  12215000.0  7500.0         4        2.0      2.0      yes        no   \n",
       "4  11410000.0  7420.0         4        1.0      2.0      yes       yes   \n",
       "\n",
       "  basement hotwaterheating airconditioning  parking prefarea furnishingstatus  \n",
       "0       no              no             yes      2.0      yes        furnished  \n",
       "1       no              no             yes      3.0       no        furnished  \n",
       "2      yes              no              no      2.0      yes   semi-furnished  \n",
       "3      yes              no             yes      3.0      yes        furnished  \n",
       "4      yes              no             yes      2.0       no        furnished  "
      ]
     },
     "execution_count": 4,
     "metadata": {},
     "output_type": "execute_result"
    }
   ],
   "source": [
    "house.head()"
   ]
  },
  {
   "cell_type": "code",
   "execution_count": 5,
   "metadata": {},
   "outputs": [
    {
     "data": {
      "text/html": [
       "<div>\n",
       "<style scoped>\n",
       "    .dataframe tbody tr th:only-of-type {\n",
       "        vertical-align: middle;\n",
       "    }\n",
       "\n",
       "    .dataframe tbody tr th {\n",
       "        vertical-align: top;\n",
       "    }\n",
       "\n",
       "    .dataframe thead th {\n",
       "        text-align: right;\n",
       "    }\n",
       "</style>\n",
       "<table border=\"1\" class=\"dataframe\">\n",
       "  <thead>\n",
       "    <tr style=\"text-align: right;\">\n",
       "      <th></th>\n",
       "      <th>price</th>\n",
       "      <th>area</th>\n",
       "      <th>bedrooms</th>\n",
       "      <th>bathrooms</th>\n",
       "      <th>stories</th>\n",
       "      <th>mainroad</th>\n",
       "      <th>guestroom</th>\n",
       "      <th>basement</th>\n",
       "      <th>hotwaterheating</th>\n",
       "      <th>airconditioning</th>\n",
       "      <th>parking</th>\n",
       "      <th>prefarea</th>\n",
       "      <th>furnishingstatus</th>\n",
       "    </tr>\n",
       "  </thead>\n",
       "  <tbody>\n",
       "    <tr>\n",
       "      <th>540</th>\n",
       "      <td>1820000.0</td>\n",
       "      <td>3000.0</td>\n",
       "      <td>2</td>\n",
       "      <td>1.0</td>\n",
       "      <td>1.0</td>\n",
       "      <td>yes</td>\n",
       "      <td>no</td>\n",
       "      <td>yes</td>\n",
       "      <td>no</td>\n",
       "      <td>no</td>\n",
       "      <td>2.0</td>\n",
       "      <td>no</td>\n",
       "      <td>unfurnished</td>\n",
       "    </tr>\n",
       "    <tr>\n",
       "      <th>541</th>\n",
       "      <td>1767150.0</td>\n",
       "      <td>2400.0</td>\n",
       "      <td>3</td>\n",
       "      <td>1.0</td>\n",
       "      <td>1.0</td>\n",
       "      <td>no</td>\n",
       "      <td>no</td>\n",
       "      <td>no</td>\n",
       "      <td>no</td>\n",
       "      <td>no</td>\n",
       "      <td>0.0</td>\n",
       "      <td>no</td>\n",
       "      <td>semi-furnished</td>\n",
       "    </tr>\n",
       "    <tr>\n",
       "      <th>542</th>\n",
       "      <td>1750000.0</td>\n",
       "      <td>3620.0</td>\n",
       "      <td>2</td>\n",
       "      <td>1.0</td>\n",
       "      <td>1.0</td>\n",
       "      <td>yes</td>\n",
       "      <td>no</td>\n",
       "      <td>no</td>\n",
       "      <td>no</td>\n",
       "      <td>no</td>\n",
       "      <td>0.0</td>\n",
       "      <td>no</td>\n",
       "      <td>unfurnished</td>\n",
       "    </tr>\n",
       "    <tr>\n",
       "      <th>543</th>\n",
       "      <td>1750000.0</td>\n",
       "      <td>2910.0</td>\n",
       "      <td>3</td>\n",
       "      <td>1.0</td>\n",
       "      <td>1.0</td>\n",
       "      <td>no</td>\n",
       "      <td>no</td>\n",
       "      <td>no</td>\n",
       "      <td>no</td>\n",
       "      <td>no</td>\n",
       "      <td>0.0</td>\n",
       "      <td>no</td>\n",
       "      <td>furnished</td>\n",
       "    </tr>\n",
       "    <tr>\n",
       "      <th>544</th>\n",
       "      <td>1750000.0</td>\n",
       "      <td>3850.0</td>\n",
       "      <td>3</td>\n",
       "      <td>1.0</td>\n",
       "      <td>2.0</td>\n",
       "      <td>yes</td>\n",
       "      <td>no</td>\n",
       "      <td>no</td>\n",
       "      <td>no</td>\n",
       "      <td>no</td>\n",
       "      <td>0.0</td>\n",
       "      <td>no</td>\n",
       "      <td>unfurnished</td>\n",
       "    </tr>\n",
       "  </tbody>\n",
       "</table>\n",
       "</div>"
      ],
      "text/plain": [
       "         price    area  bedrooms  bathrooms  stories mainroad guestroom  \\\n",
       "540  1820000.0  3000.0         2        1.0      1.0      yes        no   \n",
       "541  1767150.0  2400.0         3        1.0      1.0       no        no   \n",
       "542  1750000.0  3620.0         2        1.0      1.0      yes        no   \n",
       "543  1750000.0  2910.0         3        1.0      1.0       no        no   \n",
       "544  1750000.0  3850.0         3        1.0      2.0      yes        no   \n",
       "\n",
       "    basement hotwaterheating airconditioning  parking prefarea  \\\n",
       "540      yes              no              no      2.0       no   \n",
       "541       no              no              no      0.0       no   \n",
       "542       no              no              no      0.0       no   \n",
       "543       no              no              no      0.0       no   \n",
       "544       no              no              no      0.0       no   \n",
       "\n",
       "    furnishingstatus  \n",
       "540      unfurnished  \n",
       "541   semi-furnished  \n",
       "542      unfurnished  \n",
       "543        furnished  \n",
       "544      unfurnished  "
      ]
     },
     "execution_count": 5,
     "metadata": {},
     "output_type": "execute_result"
    }
   ],
   "source": [
    "house.tail()"
   ]
  },
  {
   "cell_type": "code",
   "execution_count": 13,
   "metadata": {},
   "outputs": [
    {
     "name": "stdout",
     "output_type": "stream",
     "text": [
      "<class 'pandas.core.frame.DataFrame'>\n",
      "RangeIndex: 545 entries, 0 to 544\n",
      "Data columns (total 13 columns):\n",
      " #   Column            Non-Null Count  Dtype  \n",
      "---  ------            --------------  -----  \n",
      " 0   price             540 non-null    float64\n",
      " 1   area              541 non-null    float64\n",
      " 2   bedrooms          545 non-null    float64\n",
      " 3   bathrooms         544 non-null    float64\n",
      " 4   stories           544 non-null    float64\n",
      " 5   mainroad          544 non-null    float64\n",
      " 6   guestroom         543 non-null    float64\n",
      " 7   basement          544 non-null    float64\n",
      " 8   hotwaterheating   545 non-null    float64\n",
      " 9   airconditioning   545 non-null    float64\n",
      " 10  parking           544 non-null    float64\n",
      " 11  prefarea          545 non-null    float64\n",
      " 12  furnishingstatus  545 non-null    float64\n",
      "dtypes: float64(13)\n",
      "memory usage: 55.5 KB\n"
     ]
    }
   ],
   "source": [
    "house.info()"
   ]
  },
  {
   "cell_type": "code",
   "execution_count": 14,
   "metadata": {},
   "outputs": [
    {
     "data": {
      "text/plain": [
       "price               5\n",
       "area                4\n",
       "bedrooms            0\n",
       "bathrooms           1\n",
       "stories             1\n",
       "mainroad            1\n",
       "guestroom           2\n",
       "basement            1\n",
       "hotwaterheating     0\n",
       "airconditioning     0\n",
       "parking             1\n",
       "prefarea            0\n",
       "furnishingstatus    0\n",
       "dtype: int64"
      ]
     },
     "execution_count": 14,
     "metadata": {},
     "output_type": "execute_result"
    }
   ],
   "source": [
    "house.isnull().sum()"
   ]
  },
  {
   "cell_type": "code",
   "execution_count": 6,
   "metadata": {},
   "outputs": [
    {
     "data": {
      "text/plain": [
       "array(['furnished', 'semi-furnished', 'unfurnished'], dtype=object)"
      ]
     },
     "execution_count": 6,
     "metadata": {},
     "output_type": "execute_result"
    }
   ],
   "source": [
    "house['furnishingstatus'].unique()"
   ]
  },
  {
   "cell_type": "code",
   "execution_count": 7,
   "metadata": {},
   "outputs": [],
   "source": [
    "house['mainroad'] = house['mainroad'].map({'yes': 1, 'no': 0})\n",
    "house['guestroom'] = house['guestroom'].map({'yes': 1, 'no': 0})\n",
    "house['basement'] = house['basement'].map({'yes': 1, 'no': 0})\n",
    "house['hotwaterheating'] = house['hotwaterheating'].map({'yes': 1, 'no': 0})\n",
    "house['airconditioning'] = house['airconditioning'].map({'yes': 1, 'no': 0})\n",
    "house['prefarea'] = house['prefarea'].map({'yes': 1, 'no': 0})\n",
    "house['furnishingstatus']=house['furnishingstatus'].map({'furnished':1,'semi-furnished':2,'unfurnished':3})"
   ]
  },
  {
   "cell_type": "code",
   "execution_count": 15,
   "metadata": {},
   "outputs": [],
   "source": [
    "house['price'].fillna(house['price'].mean(),inplace=True)\n",
    "house['area'].fillna(house['area'].mean(),inplace=True)\n",
    "house['bathrooms'].fillna(house['bathrooms'].mean(),inplace=True)\n",
    "house['stories'].fillna(house['stories'].mean(),inplace=True)\n",
    "house['mainroad'].fillna(house['mainroad'].mean(),inplace=True)\n",
    "house['guestroom'].fillna(house['guestroom'].mean(),inplace=True)\n",
    "house['basement'].fillna(house['basement'].mean(),inplace=True)\n",
    "house['parking'].fillna(house['parking'].mean(),inplace=True)"
   ]
  },
  {
   "cell_type": "code",
   "execution_count": 16,
   "metadata": {},
   "outputs": [
    {
     "data": {
      "text/plain": [
       "price               0\n",
       "area                0\n",
       "bedrooms            0\n",
       "bathrooms           0\n",
       "stories             0\n",
       "mainroad            0\n",
       "guestroom           0\n",
       "basement            0\n",
       "hotwaterheating     0\n",
       "airconditioning     0\n",
       "parking             0\n",
       "prefarea            0\n",
       "furnishingstatus    0\n",
       "dtype: int64"
      ]
     },
     "execution_count": 16,
     "metadata": {},
     "output_type": "execute_result"
    }
   ],
   "source": [
    "house.isnull().sum()"
   ]
  },
  {
   "cell_type": "code",
   "execution_count": 19,
   "metadata": {},
   "outputs": [],
   "source": [
    "#normalzing\n",
    "def normalize (x): \n",
    "    return ( (x-np.mean(x))/ (max(x) - min(x)))\n",
    "                                                                                          \n",
    "house = house.apply(normalize)"
   ]
  },
  {
   "cell_type": "code",
   "execution_count": 20,
   "metadata": {},
   "outputs": [
    {
     "data": {
      "text/html": [
       "<div>\n",
       "<style scoped>\n",
       "    .dataframe tbody tr th:only-of-type {\n",
       "        vertical-align: middle;\n",
       "    }\n",
       "\n",
       "    .dataframe tbody tr th {\n",
       "        vertical-align: top;\n",
       "    }\n",
       "\n",
       "    .dataframe thead th {\n",
       "        text-align: right;\n",
       "    }\n",
       "</style>\n",
       "<table border=\"1\" class=\"dataframe\">\n",
       "  <thead>\n",
       "    <tr style=\"text-align: right;\">\n",
       "      <th></th>\n",
       "      <th>price</th>\n",
       "      <th>area</th>\n",
       "      <th>bedrooms</th>\n",
       "      <th>bathrooms</th>\n",
       "      <th>stories</th>\n",
       "      <th>mainroad</th>\n",
       "      <th>guestroom</th>\n",
       "      <th>basement</th>\n",
       "      <th>hotwaterheating</th>\n",
       "      <th>airconditioning</th>\n",
       "      <th>parking</th>\n",
       "      <th>prefarea</th>\n",
       "      <th>furnishingstatus</th>\n",
       "    </tr>\n",
       "  </thead>\n",
       "  <tbody>\n",
       "    <tr>\n",
       "      <th>0</th>\n",
       "      <td>0.739996</td>\n",
       "      <td>0.157433</td>\n",
       "      <td>0.206972</td>\n",
       "      <td>0.238358</td>\n",
       "      <td>0.398284</td>\n",
       "      <td>0.141544</td>\n",
       "      <td>-0.176796</td>\n",
       "      <td>-0.351103</td>\n",
       "      <td>-0.045872</td>\n",
       "      <td>0.684404</td>\n",
       "      <td>0.436275</td>\n",
       "      <td>0.765138</td>\n",
       "      <td>-0.534862</td>\n",
       "    </tr>\n",
       "    <tr>\n",
       "      <th>1</th>\n",
       "      <td>0.649087</td>\n",
       "      <td>0.263275</td>\n",
       "      <td>0.206972</td>\n",
       "      <td>0.905025</td>\n",
       "      <td>0.731618</td>\n",
       "      <td>0.141544</td>\n",
       "      <td>-0.176796</td>\n",
       "      <td>-0.351103</td>\n",
       "      <td>-0.045872</td>\n",
       "      <td>0.684404</td>\n",
       "      <td>0.769608</td>\n",
       "      <td>-0.234862</td>\n",
       "      <td>-0.534862</td>\n",
       "    </tr>\n",
       "    <tr>\n",
       "      <th>2</th>\n",
       "      <td>0.649087</td>\n",
       "      <td>0.332003</td>\n",
       "      <td>0.006972</td>\n",
       "      <td>0.238358</td>\n",
       "      <td>0.064951</td>\n",
       "      <td>0.141544</td>\n",
       "      <td>-0.176796</td>\n",
       "      <td>0.648897</td>\n",
       "      <td>-0.045872</td>\n",
       "      <td>-0.315596</td>\n",
       "      <td>0.436275</td>\n",
       "      <td>0.765138</td>\n",
       "      <td>-0.034862</td>\n",
       "    </tr>\n",
       "    <tr>\n",
       "      <th>3</th>\n",
       "      <td>0.646056</td>\n",
       "      <td>0.162931</td>\n",
       "      <td>0.206972</td>\n",
       "      <td>0.238358</td>\n",
       "      <td>0.064951</td>\n",
       "      <td>0.141544</td>\n",
       "      <td>-0.176796</td>\n",
       "      <td>0.648897</td>\n",
       "      <td>-0.045872</td>\n",
       "      <td>0.684404</td>\n",
       "      <td>0.769608</td>\n",
       "      <td>0.765138</td>\n",
       "      <td>-0.534862</td>\n",
       "    </tr>\n",
       "    <tr>\n",
       "      <th>4</th>\n",
       "      <td>0.576359</td>\n",
       "      <td>0.157433</td>\n",
       "      <td>0.206972</td>\n",
       "      <td>-0.094975</td>\n",
       "      <td>0.064951</td>\n",
       "      <td>0.141544</td>\n",
       "      <td>0.823204</td>\n",
       "      <td>0.648897</td>\n",
       "      <td>-0.045872</td>\n",
       "      <td>0.684404</td>\n",
       "      <td>0.436275</td>\n",
       "      <td>-0.234862</td>\n",
       "      <td>-0.534862</td>\n",
       "    </tr>\n",
       "    <tr>\n",
       "      <th>...</th>\n",
       "      <td>...</td>\n",
       "      <td>...</td>\n",
       "      <td>...</td>\n",
       "      <td>...</td>\n",
       "      <td>...</td>\n",
       "      <td>...</td>\n",
       "      <td>...</td>\n",
       "      <td>...</td>\n",
       "      <td>...</td>\n",
       "      <td>...</td>\n",
       "      <td>...</td>\n",
       "      <td>...</td>\n",
       "      <td>...</td>\n",
       "    </tr>\n",
       "    <tr>\n",
       "      <th>540</th>\n",
       "      <td>-0.253944</td>\n",
       "      <td>-0.146347</td>\n",
       "      <td>-0.193028</td>\n",
       "      <td>-0.094975</td>\n",
       "      <td>-0.268382</td>\n",
       "      <td>0.141544</td>\n",
       "      <td>-0.176796</td>\n",
       "      <td>0.648897</td>\n",
       "      <td>-0.045872</td>\n",
       "      <td>-0.315596</td>\n",
       "      <td>0.436275</td>\n",
       "      <td>-0.234862</td>\n",
       "      <td>0.465138</td>\n",
       "    </tr>\n",
       "    <tr>\n",
       "      <th>541</th>\n",
       "      <td>-0.258520</td>\n",
       "      <td>-0.187585</td>\n",
       "      <td>0.006972</td>\n",
       "      <td>-0.094975</td>\n",
       "      <td>-0.268382</td>\n",
       "      <td>-0.858456</td>\n",
       "      <td>-0.176796</td>\n",
       "      <td>-0.351103</td>\n",
       "      <td>-0.045872</td>\n",
       "      <td>-0.315596</td>\n",
       "      <td>-0.230392</td>\n",
       "      <td>-0.234862</td>\n",
       "      <td>-0.034862</td>\n",
       "    </tr>\n",
       "    <tr>\n",
       "      <th>542</th>\n",
       "      <td>-0.260004</td>\n",
       "      <td>-0.103736</td>\n",
       "      <td>-0.193028</td>\n",
       "      <td>-0.094975</td>\n",
       "      <td>-0.268382</td>\n",
       "      <td>0.141544</td>\n",
       "      <td>-0.176796</td>\n",
       "      <td>-0.351103</td>\n",
       "      <td>-0.045872</td>\n",
       "      <td>-0.315596</td>\n",
       "      <td>-0.230392</td>\n",
       "      <td>-0.234862</td>\n",
       "      <td>0.465138</td>\n",
       "    </tr>\n",
       "    <tr>\n",
       "      <th>543</th>\n",
       "      <td>-0.260004</td>\n",
       "      <td>-0.152533</td>\n",
       "      <td>0.006972</td>\n",
       "      <td>-0.094975</td>\n",
       "      <td>-0.268382</td>\n",
       "      <td>-0.858456</td>\n",
       "      <td>-0.176796</td>\n",
       "      <td>-0.351103</td>\n",
       "      <td>-0.045872</td>\n",
       "      <td>-0.315596</td>\n",
       "      <td>-0.230392</td>\n",
       "      <td>-0.234862</td>\n",
       "      <td>-0.534862</td>\n",
       "    </tr>\n",
       "    <tr>\n",
       "      <th>544</th>\n",
       "      <td>-0.260004</td>\n",
       "      <td>-0.087928</td>\n",
       "      <td>0.006972</td>\n",
       "      <td>-0.094975</td>\n",
       "      <td>0.064951</td>\n",
       "      <td>0.141544</td>\n",
       "      <td>-0.176796</td>\n",
       "      <td>-0.351103</td>\n",
       "      <td>-0.045872</td>\n",
       "      <td>-0.315596</td>\n",
       "      <td>-0.230392</td>\n",
       "      <td>-0.234862</td>\n",
       "      <td>0.465138</td>\n",
       "    </tr>\n",
       "  </tbody>\n",
       "</table>\n",
       "<p>545 rows × 13 columns</p>\n",
       "</div>"
      ],
      "text/plain": [
       "        price      area  bedrooms  bathrooms   stories  mainroad  guestroom  \\\n",
       "0    0.739996  0.157433  0.206972   0.238358  0.398284  0.141544  -0.176796   \n",
       "1    0.649087  0.263275  0.206972   0.905025  0.731618  0.141544  -0.176796   \n",
       "2    0.649087  0.332003  0.006972   0.238358  0.064951  0.141544  -0.176796   \n",
       "3    0.646056  0.162931  0.206972   0.238358  0.064951  0.141544  -0.176796   \n",
       "4    0.576359  0.157433  0.206972  -0.094975  0.064951  0.141544   0.823204   \n",
       "..        ...       ...       ...        ...       ...       ...        ...   \n",
       "540 -0.253944 -0.146347 -0.193028  -0.094975 -0.268382  0.141544  -0.176796   \n",
       "541 -0.258520 -0.187585  0.006972  -0.094975 -0.268382 -0.858456  -0.176796   \n",
       "542 -0.260004 -0.103736 -0.193028  -0.094975 -0.268382  0.141544  -0.176796   \n",
       "543 -0.260004 -0.152533  0.006972  -0.094975 -0.268382 -0.858456  -0.176796   \n",
       "544 -0.260004 -0.087928  0.006972  -0.094975  0.064951  0.141544  -0.176796   \n",
       "\n",
       "     basement  hotwaterheating  airconditioning   parking  prefarea  \\\n",
       "0   -0.351103        -0.045872         0.684404  0.436275  0.765138   \n",
       "1   -0.351103        -0.045872         0.684404  0.769608 -0.234862   \n",
       "2    0.648897        -0.045872        -0.315596  0.436275  0.765138   \n",
       "3    0.648897        -0.045872         0.684404  0.769608  0.765138   \n",
       "4    0.648897        -0.045872         0.684404  0.436275 -0.234862   \n",
       "..        ...              ...              ...       ...       ...   \n",
       "540  0.648897        -0.045872        -0.315596  0.436275 -0.234862   \n",
       "541 -0.351103        -0.045872        -0.315596 -0.230392 -0.234862   \n",
       "542 -0.351103        -0.045872        -0.315596 -0.230392 -0.234862   \n",
       "543 -0.351103        -0.045872        -0.315596 -0.230392 -0.234862   \n",
       "544 -0.351103        -0.045872        -0.315596 -0.230392 -0.234862   \n",
       "\n",
       "     furnishingstatus  \n",
       "0           -0.534862  \n",
       "1           -0.534862  \n",
       "2           -0.034862  \n",
       "3           -0.534862  \n",
       "4           -0.534862  \n",
       "..                ...  \n",
       "540          0.465138  \n",
       "541         -0.034862  \n",
       "542          0.465138  \n",
       "543         -0.534862  \n",
       "544          0.465138  \n",
       "\n",
       "[545 rows x 13 columns]"
      ]
     },
     "execution_count": 20,
     "metadata": {},
     "output_type": "execute_result"
    }
   ],
   "source": [
    "house"
   ]
  },
  {
   "cell_type": "code",
   "execution_count": 18,
   "metadata": {},
   "outputs": [],
   "source": [
    "#taking feature value and traget value\n",
    "X = house[['area']]\n",
    "Y=house[['price']]"
   ]
  },
  {
   "cell_type": "code",
   "execution_count": 21,
   "metadata": {},
   "outputs": [],
   "source": [
    "#spliting and traing\n",
    "from sklearn.model_selection import train_test_split\n",
    "x_train,x_test,y_train,y_test=train_test_split(X,Y,test_size=0.25,random_state=0)"
   ]
  },
  {
   "cell_type": "code",
   "execution_count": 22,
   "metadata": {},
   "outputs": [
    {
     "data": {
      "text/plain": [
       "408"
      ]
     },
     "execution_count": 22,
     "metadata": {},
     "output_type": "execute_result"
    }
   ],
   "source": [
    "len(x_train)"
   ]
  },
  {
   "cell_type": "code",
   "execution_count": 23,
   "metadata": {},
   "outputs": [
    {
     "data": {
      "text/plain": [
       "408"
      ]
     },
     "execution_count": 23,
     "metadata": {},
     "output_type": "execute_result"
    }
   ],
   "source": [
    "len(y_train)"
   ]
  },
  {
   "cell_type": "code",
   "execution_count": null,
   "metadata": {},
   "outputs": [],
   "source": []
  },
  {
   "cell_type": "code",
   "execution_count": 24,
   "metadata": {},
   "outputs": [],
   "source": [
    "from sklearn.linear_model import LinearRegression"
   ]
  },
  {
   "cell_type": "code",
   "execution_count": 25,
   "metadata": {},
   "outputs": [],
   "source": [
    "reg=LinearRegression()"
   ]
  },
  {
   "cell_type": "code",
   "execution_count": 26,
   "metadata": {},
   "outputs": [
    {
     "data": {
      "text/plain": [
       "LinearRegression()"
      ]
     },
     "execution_count": 26,
     "metadata": {},
     "output_type": "execute_result"
    }
   ],
   "source": [
    "reg.fit(x_train,y_train)"
   ]
  },
  {
   "cell_type": "code",
   "execution_count": 27,
   "metadata": {},
   "outputs": [],
   "source": [
    "y_pred = reg.predict(x_test)"
   ]
  },
  {
   "cell_type": "code",
   "execution_count": 28,
   "metadata": {},
   "outputs": [
    {
     "data": {
      "text/plain": [
       "array([[-0.04181797],\n",
       "       [ 0.19739052],\n",
       "       [-0.06480241],\n",
       "       [ 0.34976888],\n",
       "       [-0.05628965],\n",
       "       [ 0.05820693],\n",
       "       [-0.04820254],\n",
       "       [-0.06395114],\n",
       "       [-0.0625891 ],\n",
       "       [ 0.17100097],\n",
       "       [ 0.04330961],\n",
       "       [-0.04352052],\n",
       "       [-0.06522805],\n",
       "       [ 0.04586344],\n",
       "       [ 0.04267115],\n",
       "       [-0.10864311],\n",
       "       [-0.00351056],\n",
       "       [ 0.04416088],\n",
       "       [-0.08012538],\n",
       "       [-0.02053607],\n",
       "       [ 0.13482175],\n",
       "       [ 0.06246331],\n",
       "       [ 0.00074582],\n",
       "       [-0.13971468],\n",
       "       [ 0.0611864 ],\n",
       "       [-0.07799719],\n",
       "       [ 0.0858734 ],\n",
       "       [ 0.0296892 ],\n",
       "       [-0.07161262],\n",
       "       [ 0.0611864 ],\n",
       "       [-0.02479245],\n",
       "       [-0.1152405 ],\n",
       "       [ 0.1454627 ],\n",
       "       [-0.04011542],\n",
       "       [-0.0792741 ],\n",
       "       [ 0.06203767],\n",
       "       [ 0.04330961],\n",
       "       [-0.08284946],\n",
       "       [-0.06522805],\n",
       "       [-0.11949688],\n",
       "       [ 0.14971908],\n",
       "       [ 0.03905323],\n",
       "       [ 0.03479685],\n",
       "       [ 0.0218149 ],\n",
       "       [-0.06224858],\n",
       "       [ 0.04330961],\n",
       "       [-0.03500776],\n",
       "       [-0.04011542],\n",
       "       [-0.03986003],\n",
       "       [ 0.03054047],\n",
       "       [-0.00606439],\n",
       "       [ 0.19939102],\n",
       "       [-0.14184287],\n",
       "       [-0.04820254],\n",
       "       [ 0.03820195],\n",
       "       [ 0.03139175],\n",
       "       [ 0.13907813],\n",
       "       [-0.01457714],\n",
       "       [-0.05884348],\n",
       "       [ 0.0858734 ],\n",
       "       [ 0.33699974],\n",
       "       [ 0.06884788],\n",
       "       [-0.12119943],\n",
       "       [ 0.04330961],\n",
       "       [-0.09970472],\n",
       "       [-0.09217093],\n",
       "       [ 0.09247078],\n",
       "       [-0.02436681],\n",
       "       [-0.02053607],\n",
       "       [ 0.05607874],\n",
       "       [-0.12077379],\n",
       "       [ 0.02202771],\n",
       "       [-0.05884348],\n",
       "       [-0.03075138],\n",
       "       [-0.051182  ],\n",
       "       [-0.08991505],\n",
       "       [-0.06650496],\n",
       "       [ 0.15312418],\n",
       "       [-0.0882125 ],\n",
       "       [-0.04181797],\n",
       "       [-0.12077379],\n",
       "       [ 0.11507215],\n",
       "       [-0.02011044],\n",
       "       [ 0.09234309],\n",
       "       [-0.01627969],\n",
       "       [-0.07416645],\n",
       "       [-0.06650496],\n",
       "       [ 0.03479685],\n",
       "       [-0.07799719],\n",
       "       [-0.03862568],\n",
       "       [ 0.10392044],\n",
       "       [ 0.17100097],\n",
       "       [-0.05714093],\n",
       "       [-0.07799719],\n",
       "       [-0.12077379],\n",
       "       [ 0.16929842],\n",
       "       [-0.12013534],\n",
       "       [ 0.06671969],\n",
       "       [ 0.11864751],\n",
       "       [ 0.1454627 ],\n",
       "       [ 0.23484665],\n",
       "       [-0.06395114],\n",
       "       [-0.09344784],\n",
       "       [-0.08438175],\n",
       "       [ 0.0611864 ],\n",
       "       [ 0.00925858],\n",
       "       [ 0.04586344],\n",
       "       [-0.02053607],\n",
       "       [ 0.04756599],\n",
       "       [-0.05799221],\n",
       "       [-0.04181797],\n",
       "       [-0.0826792 ],\n",
       "       [-0.05884348],\n",
       "       [ 0.20760583],\n",
       "       [-0.04318001],\n",
       "       [-0.04862817],\n",
       "       [ 0.205052  ],\n",
       "       [-0.05714093],\n",
       "       [-0.06224858],\n",
       "       [ 0.34976888],\n",
       "       [-0.09715089],\n",
       "       [-0.02904883],\n",
       "       [-0.02053607],\n",
       "       [ 0.000533  ],\n",
       "       [-0.08144485],\n",
       "       [-0.02683551],\n",
       "       [ 0.16589332],\n",
       "       [ 0.33887255],\n",
       "       [ 0.0926836 ],\n",
       "       [-0.05884348],\n",
       "       [ 0.07097607],\n",
       "       [-0.03968978],\n",
       "       [-0.08438175],\n",
       "       [-0.05714093],\n",
       "       [ 0.01606878],\n",
       "       [ 0.47746024],\n",
       "       [ 0.04160706]])"
      ]
     },
     "execution_count": 28,
     "metadata": {},
     "output_type": "execute_result"
    }
   ],
   "source": [
    "y_pred"
   ]
  },
  {
   "cell_type": "code",
   "execution_count": 29,
   "metadata": {},
   "outputs": [
    {
     "data": {
      "text/plain": [
       "array([0.00625165])"
      ]
     },
     "execution_count": 29,
     "metadata": {},
     "output_type": "execute_result"
    }
   ],
   "source": [
    "reg.intercept_"
   ]
  },
  {
   "cell_type": "code",
   "execution_count": 30,
   "metadata": {},
   "outputs": [
    {
     "data": {
      "text/plain": [
       "array([[0.61930311]])"
      ]
     },
     "execution_count": 30,
     "metadata": {},
     "output_type": "execute_result"
    }
   ],
   "source": [
    "reg.coef_"
   ]
  },
  {
   "cell_type": "code",
   "execution_count": 31,
   "metadata": {},
   "outputs": [
    {
     "name": "stdout",
     "output_type": "stream",
     "text": [
      "Requirement already satisfied: matplotlib in c:\\users\\adarsh\\anaconda3\\lib\\site-packages (3.3.2)\n",
      "Requirement already satisfied: kiwisolver>=1.0.1 in c:\\users\\adarsh\\anaconda3\\lib\\site-packages (from matplotlib) (1.3.0)\n",
      "Requirement already satisfied: pillow>=6.2.0 in c:\\users\\adarsh\\anaconda3\\lib\\site-packages (from matplotlib) (8.0.1)\n",
      "Requirement already satisfied: cycler>=0.10 in c:\\users\\adarsh\\anaconda3\\lib\\site-packages (from matplotlib) (0.10.0)\n",
      "Requirement already satisfied: python-dateutil>=2.1 in c:\\users\\adarsh\\anaconda3\\lib\\site-packages (from matplotlib) (2.8.1)\n",
      "Requirement already satisfied: pyparsing!=2.0.4,!=2.1.2,!=2.1.6,>=2.0.3 in c:\\users\\adarsh\\anaconda3\\lib\\site-packages (from matplotlib) (2.4.7)\n",
      "Requirement already satisfied: certifi>=2020.06.20 in c:\\users\\adarsh\\anaconda3\\lib\\site-packages (from matplotlib) (2020.6.20)\n",
      "Requirement already satisfied: numpy>=1.15 in c:\\users\\adarsh\\anaconda3\\lib\\site-packages (from matplotlib) (1.19.2)\n",
      "Requirement already satisfied: six in c:\\users\\adarsh\\anaconda3\\lib\\site-packages (from cycler>=0.10->matplotlib) (1.15.0)\n"
     ]
    }
   ],
   "source": [
    "!pip install matplotlib"
   ]
  },
  {
   "cell_type": "code",
   "execution_count": 32,
   "metadata": {},
   "outputs": [],
   "source": [
    "import matplotlib.pyplot as plt"
   ]
  },
  {
   "cell_type": "code",
   "execution_count": 33,
   "metadata": {},
   "outputs": [
    {
     "data": {
      "text/plain": [
       "[<matplotlib.lines.Line2D at 0x1c012e589a0>]"
      ]
     },
     "execution_count": 33,
     "metadata": {},
     "output_type": "execute_result"
    },
    {
     "data": {
      "image/png": "[encoded data removed]",
      "text/plain": [
       "<Figure size 432x288 with 1 Axes>"
      ]
     },
     "metadata": {
      "needs_background": "light"
     },
     "output_type": "display_data"
    }
   ],
   "source": [
    "plt.plot(x_train,reg.predict(x_train),color = 'blue')"
   ]
  },
  {
   "cell_type": "code",
   "execution_count": 40,
   "metadata": {},
   "outputs": [
    {
     "data": {
      "text/plain": [
       "Text(0, 0.5, 'price')"
      ]
     },
     "execution_count": 40,
     "metadata": {},
     "output_type": "execute_result"
    },
    {
     "data": {
      "image/png": "[encoded data removed]",
      "text/plain": [
       "<Figure size 432x288 with 1 Axes>"
      ]
     },
     "metadata": {
      "needs_background": "light"
     },
     "output_type": "display_data"
    }
   ],
   "source": [
    "plt.scatter(x_train,y_train,color = 'red')\n",
    "plt.plot(x_train,reg.predict(x_train),color = 'blue')\n",
    "plt.title('Price vs Area')\n",
    "plt.xlabel('area')\n",
    "plt.ylabel('price')"
   ]
  },
  {
   "cell_type": "code",
   "execution_count": 41,
   "metadata": {},
   "outputs": [],
   "source": [
    "#predicting with new value\n",
    "x_new=np.array([[7300],[6800],[5300],[8400]])"
   ]
  },
  {
   "cell_type": "code",
   "execution_count": 42,
   "metadata": {},
   "outputs": [
    {
     "data": {
      "text/plain": [
       "array([[4520.91893926],\n",
       "       [4211.26738532],\n",
       "       [3282.31272348],\n",
       "       [5202.15235794]])"
      ]
     },
     "execution_count": 42,
     "metadata": {},
     "output_type": "execute_result"
    }
   ],
   "source": [
    "reg.predict(x_new)"
   ]
  },
  {
   "cell_type": "code",
   "execution_count": 45,
   "metadata": {},
   "outputs": [],
   "source": [
    "from sklearn.metrics import mean_squared_error"
   ]
  },
  {
   "cell_type": "code",
   "execution_count": 47,
   "metadata": {},
   "outputs": [
    {
     "data": {
      "text/plain": [
       "0.12346564933022329"
      ]
     },
     "execution_count": 47,
     "metadata": {},
     "output_type": "execute_result"
    }
   ],
   "source": [
    "#fiding mse\n",
    "mse = mean_squared_error(y_test, reg.predict(x_test))\n",
    "np.sqrt(mse)"
   ]
  },
  {
   "cell_type": "code",
   "execution_count": 48,
   "metadata": {},
   "outputs": [
    {
     "data": {
      "text/plain": [
       "0.3145799614781555"
      ]
     },
     "execution_count": 48,
     "metadata": {},
     "output_type": "execute_result"
    }
   ],
   "source": [
    "reg.score(x_test,y_test)"
   ]
  },
  {
   "cell_type": "code",
   "execution_count": null,
   "metadata": {},
   "outputs": [],
   "source": []
  },
  {
   "cell_type": "code",
   "execution_count": null,
   "metadata": {},
   "outputs": [],
   "source": []
  },
  {
   "cell_type": "code",
   "execution_count": null,
   "metadata": {},
   "outputs": [],
   "source": []
  }
 ],
 "metadata": {
  "kernelspec": {
   "display_name": "Python 3",
   "language": "python",
   "name": "python3"
  },
  "language_info": {
   "codemirror_mode": {
    "name": "ipython",
    "version": 3
   },
   "file_extension": ".py",
   "mimetype": "text/x-python",
   "name": "python",
   "nbconvert_exporter": "python",
   "pygments_lexer": "ipython3",
   "version": "3.8.5"
  }
 },
 "nbformat": 4,
 "nbformat_minor": 4
}
